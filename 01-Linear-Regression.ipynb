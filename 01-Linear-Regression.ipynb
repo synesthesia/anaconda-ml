{
 "cells": [
  {
   "cell_type": "markdown",
   "id": "8380cc0f-2d9a-4128-a602-f9fb3ed88d14",
   "metadata": {},
   "source": [
    "# Introduction to Machine Learning 1\n",
    "\n",
    "See https://learning.anaconda.cloud/getting-started-with-ai-ml\n",
    "\n",
    "Cover major supervised machine learning algorithms which use labelled data to make predicitons:\n",
    "\n",
    "- linear regression\n",
    "- Logistic regression\n",
    "- Naive Bayes\n",
    "- Decision trees / random forests\n",
    "- Neural networks\n",
    "\n",
    "Using `scikit-learn` for implementation"
   ]
  },
  {
   "cell_type": "markdown",
   "id": "ca0b118a-38e3-4bb7-8987-6b2f13526a0b",
   "metadata": {
    "tags": []
   },
   "source": [
    "##  Linear Regression\n",
    "\n",
    "The most commonly used supervised machine learning algorithm. \n",
    "\n",
    "In this module, you'll learn how to: \n",
    "\n",
    "- Fit a line to data\n",
    "- Measure loss with residuals and sum of squares\n",
    "- Use scikit-learn to fit a linear regression\n",
    "- Evaluate a linear regression using R2 and train-test splits \n",
    "\n",
    "### Advantages\n",
    "\n",
    "- simple to understand and interpret \n",
    "- doesn't over-fit\n",
    "\n",
    "### When is Linear Regression suitable?\n",
    "\n",
    "1. variables are continuous, not binary or categorical (use logistic regression for the latter)\n",
    "2. input variables follow a Gaussian (bell curve) distribution\n",
    "3. input variables are relevant to the output variables and _not_ highly correlated with each other (collinearity)\n",
    "\n",
    "### Objectives\n",
    "\n",
    "1. fit a line to data\n",
    "2. measure loss with residuals and sum of sqaures\n",
    "3. use `scikit-learn`` for linear regression\n",
    "4. evaluate LR with R2 and train/test splits\n",
    "\n",
    "### Simple Linear Regression\n",
    "\n",
    "ML often splits into two tasks - **regression** (predict quantity) and **classification** (predict a category)\n",
    "\n",
    "E.g $y = mx+b$\n",
    "\n",
    "Challenge is to define `m` and `b` for \"best fit\"\n",
    "\n",
    "### Multiple linear regression\n",
    "\n",
    "With multiple independent variables\n",
    "\n",
    "e.g. $y = \\beta_0 + \\beta_1x_1 + \\beta_2x_2 + \\epsilon$\n",
    "\n",
    "$\\epsilon $ is error due to noise\n",
    "\n",
    "Multiple variables can get complex, important to use tools to help select only input variables correlated wit hthe output variables (see course slide)\n",
    "\n",
    "e.g.:\n",
    "\n",
    "- Pearson correlation and $R^2$\n",
    "- adjusted $R^2$\n",
    "- Akakike Information Criterion\n",
    "- Ridge and lasso regression\n",
    "\n",
    "#furtherlearning\n",
    "\n"
   ]
  },
  {
   "cell_type": "markdown",
   "id": "18195d4c-f737-478f-badd-dbbac0e9c5d0",
   "metadata": {},
   "source": [
    "### Residuals\n",
    "\n",
    "The differences between the data points and the regressions.\n",
    "\n",
    "Aim to minimise total residuals using a loss function.\n",
    "\n",
    "**Sum of squares**\n"
   ]
  },
  {
   "cell_type": "markdown",
   "id": "c14d344f-0ee0-4653-960f-7379302868a5",
   "metadata": {},
   "source": [
    "Declare training data"
   ]
  },
  {
   "cell_type": "code",
   "execution_count": 117,
   "id": "4754326f-f082-499c-8241-a81a674bbb1f",
   "metadata": {
    "tags": []
   },
   "outputs": [],
   "source": [
    "x_data = [1.0, 2.0, 3.0]\n",
    "y_actuals = [1.2, 1.25, 2.0]"
   ]
  },
  {
   "cell_type": "markdown",
   "id": "3798a3ba-c81f-4f26-a390-ee88ae903c6a",
   "metadata": {},
   "source": [
    "Declare slope and intercept coefficients"
   ]
  },
  {
   "cell_type": "code",
   "execution_count": 118,
   "id": "11587843-ee83-47fb-b7ae-ac80a4710a54",
   "metadata": {
    "tags": []
   },
   "outputs": [],
   "source": [
    "m = .368421\n",
    "b = .587719"
   ]
  },
  {
   "cell_type": "code",
   "execution_count": 119,
   "id": "b05eb836-ffc4-4722-9739-ff4a157c909a",
   "metadata": {},
   "outputs": [
    {
     "data": {
      "image/png": "[encoded data removed]",
      "text/plain": [
       "<Figure size 640x480 with 1 Axes>"
      ]
     },
     "metadata": {},
     "output_type": "display_data"
    }
   ],
   "source": [
    "# plot scatter plot and line\n",
    "import matplotlib.pyplot as plt\n",
    "\n",
    "plt.plot(x_data, y_actuals, 'o')\n",
    "plt.plot(x_data, [m*x+b for x in x_data])\n",
    "plt.show()"
   ]
  },
  {
   "cell_type": "code",
   "execution_count": 120,
   "id": "a38c160c-915f-4901-843b-752cbbac5ce4",
   "metadata": {},
   "outputs": [],
   "source": [
    "# calculate predicted y-values\n",
    "\n",
    "y_predicts = [m*x + b for x in x_data]"
   ]
  },
  {
   "cell_type": "code",
   "execution_count": 121,
   "id": "f20cb404-8815-46d6-9fd5-fe0bde843e56",
   "metadata": {
    "tags": []
   },
   "outputs": [
    {
     "name": "stdout",
     "output_type": "stream",
     "text": [
      "SUM OF SQUARES:  0.15928709464500013\n"
     ]
    }
   ],
   "source": [
    "# print sum of squares\n",
    "\n",
    "sum_of_squares = 0\n",
    "\n",
    "for (y_actual, y_predict) in zip(y_actuals, y_predicts):\n",
    "    residual = y_actual - y_predict\n",
    "    sum_of_squares += residual ** 2\n",
    "    \n",
    "print (\"SUM OF SQUARES: \", sum_of_squares)"
   ]
  },
  {
   "cell_type": "markdown",
   "id": "cb2574c6-bd83-49f1-b814-664b93de46d2",
   "metadata": {},
   "source": [
    "### Exercise 1a"
   ]
  },
  {
   "cell_type": "code",
   "execution_count": 122,
   "id": "a1e8dcc7-e2c1-4deb-947c-5d547e548e2a",
   "metadata": {
    "tags": []
   },
   "outputs": [
    {
     "name": "stdout",
     "output_type": "stream",
     "text": [
      "SUM OF SQUARES:  [4568.04002146]\n"
     ]
    }
   ],
   "source": [
    "import pandas as pd\n",
    "\n",
    "# import dataframe containing two columns of data\n",
    "df = pd.read_csv('https://bit.ly/3pBKSuN')\n",
    "\n",
    "\n",
    "# declare line with slope and intercept\n",
    "m = 1.86305\n",
    "b = -0.299037\n",
    "\n",
    "# Extract input variables (all rows, all columns but last column)\n",
    "X = df.values[:, :-1]\n",
    "\n",
    "# Extract output column (all rows, last column)\n",
    "Y_actuals = df.values[:, -1]\n",
    "\n",
    "# calculate y_predictions \n",
    "Y_predicts = m*X + b\n",
    "\n",
    "sum_of_squares = 0\n",
    "\n",
    "for (y_actual, y_predict) in zip(Y_actuals, Y_predicts): \n",
    "    residual = y_actual - y_predict \n",
    "    sum_of_squares += residual ** 2\n",
    "\n",
    "print(\"SUM OF SQUARES: \", sum_of_squares)"
   ]
  },
  {
   "cell_type": "markdown",
   "id": "25859fa5",
   "metadata": {},
   "source": [
    "### Finding the coefficients  \n",
    "\n",
    "In examples above the coefficients were supplied. In real life we need to find them\n",
    "\n",
    "Various techniques for future learning such as gradient descent, matrix decomposition, hill climbing etc.\n",
    "\n",
    "In [course](https://learning.anaconda.cloud/getting-started-with-ai-ml/20535) however use `scikit-learn` to find them."
   ]
  },
  {
   "cell_type": "code",
   "execution_count": 123,
   "id": "c037deba",
   "metadata": {},
   "outputs": [],
   "source": [
    "# import dependencies\n",
    "import pandas as pd\n",
    "import matplotlib.pyplot as plt\n",
    "from sklearn.linear_model import LinearRegression"
   ]
  },
  {
   "cell_type": "code",
   "execution_count": 124,
   "id": "3ee33bb2",
   "metadata": {},
   "outputs": [
    {
     "data": {
      "text/html": [
       "<div>\n",
       "<style scoped>\n",
       "    .dataframe tbody tr th:only-of-type {\n",
       "        vertical-align: middle;\n",
       "    }\n",
       "\n",
       "    .dataframe tbody tr th {\n",
       "        vertical-align: top;\n",
       "    }\n",
       "\n",
       "    .dataframe thead th {\n",
       "        text-align: right;\n",
       "    }\n",
       "</style>\n",
       "<table border=\"1\" class=\"dataframe\">\n",
       "  <thead>\n",
       "    <tr style=\"text-align: right;\">\n",
       "      <th></th>\n",
       "      <th>x</th>\n",
       "      <th>y</th>\n",
       "    </tr>\n",
       "  </thead>\n",
       "  <tbody>\n",
       "    <tr>\n",
       "      <th>0</th>\n",
       "      <td>1</td>\n",
       "      <td>5</td>\n",
       "    </tr>\n",
       "    <tr>\n",
       "      <th>1</th>\n",
       "      <td>2</td>\n",
       "      <td>10</td>\n",
       "    </tr>\n",
       "    <tr>\n",
       "      <th>2</th>\n",
       "      <td>3</td>\n",
       "      <td>10</td>\n",
       "    </tr>\n",
       "    <tr>\n",
       "      <th>3</th>\n",
       "      <td>4</td>\n",
       "      <td>15</td>\n",
       "    </tr>\n",
       "    <tr>\n",
       "      <th>4</th>\n",
       "      <td>5</td>\n",
       "      <td>14</td>\n",
       "    </tr>\n",
       "    <tr>\n",
       "      <th>5</th>\n",
       "      <td>6</td>\n",
       "      <td>15</td>\n",
       "    </tr>\n",
       "    <tr>\n",
       "      <th>6</th>\n",
       "      <td>7</td>\n",
       "      <td>19</td>\n",
       "    </tr>\n",
       "    <tr>\n",
       "      <th>7</th>\n",
       "      <td>8</td>\n",
       "      <td>18</td>\n",
       "    </tr>\n",
       "    <tr>\n",
       "      <th>8</th>\n",
       "      <td>9</td>\n",
       "      <td>25</td>\n",
       "    </tr>\n",
       "    <tr>\n",
       "      <th>9</th>\n",
       "      <td>10</td>\n",
       "      <td>23</td>\n",
       "    </tr>\n",
       "  </tbody>\n",
       "</table>\n",
       "</div>"
      ],
      "text/plain": [
       "    x   y\n",
       "0   1   5\n",
       "1   2  10\n",
       "2   3  10\n",
       "3   4  15\n",
       "4   5  14\n",
       "5   6  15\n",
       "6   7  19\n",
       "7   8  18\n",
       "8   9  25\n",
       "9  10  23"
      ]
     },
     "execution_count": 124,
     "metadata": {},
     "output_type": "execute_result"
    }
   ],
   "source": [
    "# Import points\n",
    "df = pd.read_csv('https://bit.ly/3goOAnt', delimiter=\",\")\n",
    "df"
   ]
  },
  {
   "cell_type": "code",
   "execution_count": 125,
   "id": "76e643a0",
   "metadata": {},
   "outputs": [],
   "source": [
    "# Extract input variables (all rows, all columns but last column)\n",
    "X = df.values[:, :-1]\n",
    "\n",
    "# Extract output column (all rows, last column)\n",
    "Y = df.values[:, -1]\n"
   ]
  },
  {
   "cell_type": "markdown",
   "id": "d4861d05",
   "metadata": {},
   "source": [
    "Using [`LinearRegression`](https://scikit-learn.org/stable/modules/generated/sklearn.linear_model.LinearRegression.html) class from `scikit-learn` we can fit a linear regression to these data points:"
   ]
  },
  {
   "cell_type": "code",
   "execution_count": 126,
   "id": "cf06f47e",
   "metadata": {},
   "outputs": [
    {
     "name": "stdout",
     "output_type": "stream",
     "text": [
      "m = [1.93939394]\n",
      "b = [4.73333333]\n"
     ]
    }
   ],
   "source": [
    "# Fit the LinearRegression model and extract the two coefficients.\n",
    "# Fit a line to the points\n",
    "fit = LinearRegression().fit(X, Y)\n",
    "\n",
    "# m = 1.7867224, b = -16.51923513\n",
    "m = fit.coef_.flatten()\n",
    "b = fit.intercept_.flatten()\n",
    "print(\"m = {0}\".format(m))\n",
    "print(\"b = {0}\".format(b))"
   ]
  },
  {
   "cell_type": "code",
   "execution_count": 127,
   "id": "bbf21d11",
   "metadata": {},
   "outputs": [
    {
     "data": {
      "image/png": "[encoded data removed]",
      "text/plain": [
       "<Figure size 640x480 with 1 Axes>"
      ]
     },
     "metadata": {},
     "output_type": "display_data"
    }
   ],
   "source": [
    "# show in chart\n",
    "# show in chart\n",
    "plt.plot(X, Y, 'o') # scatterplot\n",
    "plt.plot(X, m*X+b) # line\n",
    "plt.show()"
   ]
  },
  {
   "cell_type": "markdown",
   "id": "f86f4543",
   "metadata": {},
   "source": [
    "## Overfitting and Model Evaluation\n",
    "\n",
    "When ML model works well with training data but fails to predict correctly with  new data.\n",
    "\n",
    "Linear regression tends to show low variance and hugh bias, so less likely to be overfitted.\n",
    "\n",
    "### Train/Test Splits\n",
    "\n",
    "Common technique to mitigate overfitting is the use of train/test splits. Training data is used to fit the model, then test data is used to test it with previously-unseen data, if necessary the model can then be tweaked.\n",
    "\n",
    "### Evaluating the model with $R^2$\n",
    "\n",
    "$R^2$ (the **coefficient of determination**) ratios the average y-value to the average of the residuals. \n",
    "\n",
    "It measures how well the independent variables explain a dependent variable, with **0.0** meaning no connection and **1.0** meaning a perfect explanation.\n",
    "\n"
   ]
  },
  {
   "cell_type": "markdown",
   "id": "301c0334",
   "metadata": {},
   "source": [
    "### Linear regression Train/Test Split"
   ]
  },
  {
   "cell_type": "code",
   "execution_count": 128,
   "id": "783fde42",
   "metadata": {},
   "outputs": [],
   "source": [
    "import pandas as pd\n",
    "from sklearn.linear_model import LinearRegression\n",
    "from sklearn.model_selection import train_test_split"
   ]
  },
  {
   "cell_type": "code",
   "execution_count": 129,
   "id": "925b2a45",
   "metadata": {},
   "outputs": [
    {
     "data": {
      "text/html": [
       "<div>\n",
       "<style scoped>\n",
       "    .dataframe tbody tr th:only-of-type {\n",
       "        vertical-align: middle;\n",
       "    }\n",
       "\n",
       "    .dataframe tbody tr th {\n",
       "        vertical-align: top;\n",
       "    }\n",
       "\n",
       "    .dataframe thead th {\n",
       "        text-align: right;\n",
       "    }\n",
       "</style>\n",
       "<table border=\"1\" class=\"dataframe\">\n",
       "  <thead>\n",
       "    <tr style=\"text-align: right;\">\n",
       "      <th></th>\n",
       "      <th>x</th>\n",
       "      <th>y</th>\n",
       "    </tr>\n",
       "  </thead>\n",
       "  <tbody>\n",
       "    <tr>\n",
       "      <th>0</th>\n",
       "      <td>99.504842</td>\n",
       "      <td>159.464415</td>\n",
       "    </tr>\n",
       "    <tr>\n",
       "      <th>1</th>\n",
       "      <td>44.662766</td>\n",
       "      <td>50.508179</td>\n",
       "    </tr>\n",
       "    <tr>\n",
       "      <th>2</th>\n",
       "      <td>66.631337</td>\n",
       "      <td>91.677570</td>\n",
       "    </tr>\n",
       "    <tr>\n",
       "      <th>3</th>\n",
       "      <td>74.663878</td>\n",
       "      <td>121.276874</td>\n",
       "    </tr>\n",
       "    <tr>\n",
       "      <th>4</th>\n",
       "      <td>57.554853</td>\n",
       "      <td>77.660511</td>\n",
       "    </tr>\n",
       "    <tr>\n",
       "      <th>...</th>\n",
       "      <td>...</td>\n",
       "      <td>...</td>\n",
       "    </tr>\n",
       "    <tr>\n",
       "      <th>375</th>\n",
       "      <td>187.856720</td>\n",
       "      <td>314.745930</td>\n",
       "    </tr>\n",
       "    <tr>\n",
       "      <th>376</th>\n",
       "      <td>54.705039</td>\n",
       "      <td>74.161177</td>\n",
       "    </tr>\n",
       "    <tr>\n",
       "      <th>377</th>\n",
       "      <td>137.863407</td>\n",
       "      <td>222.073346</td>\n",
       "    </tr>\n",
       "    <tr>\n",
       "      <th>378</th>\n",
       "      <td>128.667926</td>\n",
       "      <td>226.704162</td>\n",
       "    </tr>\n",
       "    <tr>\n",
       "      <th>379</th>\n",
       "      <td>107.317790</td>\n",
       "      <td>161.477933</td>\n",
       "    </tr>\n",
       "  </tbody>\n",
       "</table>\n",
       "<p>380 rows × 2 columns</p>\n",
       "</div>"
      ],
      "text/plain": [
       "              x           y\n",
       "0     99.504842  159.464415\n",
       "1     44.662766   50.508179\n",
       "2     66.631337   91.677570\n",
       "3     74.663878  121.276874\n",
       "4     57.554853   77.660511\n",
       "..          ...         ...\n",
       "375  187.856720  314.745930\n",
       "376   54.705039   74.161177\n",
       "377  137.863407  222.073346\n",
       "378  128.667926  226.704162\n",
       "379  107.317790  161.477933\n",
       "\n",
       "[380 rows x 2 columns]"
      ]
     },
     "execution_count": 129,
     "metadata": {},
     "output_type": "execute_result"
    }
   ],
   "source": [
    "# Load the data\n",
    "df = pd.read_csv('https://bit.ly/3cIH97A', delimiter=\",\")\n",
    "df"
   ]
  },
  {
   "cell_type": "code",
   "execution_count": 130,
   "id": "46c9520b",
   "metadata": {},
   "outputs": [],
   "source": [
    "# Extract input variables (all rows, all columns but last column)\n",
    "X = df.values[:, :-1]\n",
    "\n",
    "# Extract output column (all rows, last column)\n",
    "Y = df.values[:, -1]"
   ]
  },
  {
   "cell_type": "code",
   "execution_count": 131,
   "id": "b5b86000",
   "metadata": {},
   "outputs": [],
   "source": [
    "# Separate training and testing data to evaluate performance and reduce overfitting\n",
    "# This leaves a third of the data out for testing\n",
    "# Set a random seed just to make the randomly selected split consistent\n",
    "X_train, X_test, Y_train, Y_test = train_test_split(X, Y, test_size=1.0/3.0, random_state=10)"
   ]
  },
  {
   "cell_type": "code",
   "execution_count": 132,
   "id": "f1d47e26",
   "metadata": {},
   "outputs": [
    {
     "name": "stdout",
     "output_type": "stream",
     "text": [
      "R^2: 0.994\n"
     ]
    }
   ],
   "source": [
    "# fit the model to the Train data set\n",
    "model = LinearRegression()\n",
    "model.fit(X_train, Y_train)\n",
    "\n",
    "# test the model on the Test data set\n",
    "result = model.score(X_test, Y_test)\n",
    "print(\"R^2: %.3f\" % result)"
   ]
  },
  {
   "cell_type": "code",
   "execution_count": 133,
   "id": "0b0e26af",
   "metadata": {},
   "outputs": [
    {
     "data": {
      "image/png": "[encoded data removed]",
      "text/plain": [
       "<Figure size 640x480 with 1 Axes>"
      ]
     },
     "metadata": {},
     "output_type": "display_data"
    }
   ],
   "source": [
    "import matplotlib.pyplot as plt\n",
    "\n",
    "# show in chart\n",
    "plt.plot(X, Y, 'o') # scatterplot\n",
    "plt.plot(X, model.coef_.flatten()*X+model.intercept_.flatten()) # line\n",
    "plt.show()"
   ]
  },
  {
   "cell_type": "markdown",
   "id": "1eea5c7a",
   "metadata": {},
   "source": [
    "### Exercise 1b"
   ]
  },
  {
   "cell_type": "code",
   "execution_count": 137,
   "id": "1bd8e5d6",
   "metadata": {},
   "outputs": [
    {
     "name": "stdout",
     "output_type": "stream",
     "text": [
      "R^2: 0.182\n"
     ]
    },
    {
     "data": {
      "image/png": "[encoded data removed]",
      "text/plain": [
       "<Figure size 640x480 with 1 Axes>"
      ]
     },
     "metadata": {},
     "output_type": "display_data"
    }
   ],
   "source": [
    "import pandas as pd\n",
    "from sklearn.linear_model import LinearRegression\n",
    "from sklearn.model_selection import train_test_split\n",
    "\n",
    "# Load the data\n",
    "df = pd.read_csv('https://bit.ly/3pBKSuN', delimiter=\",\")\n",
    "\n",
    "# Extract input variables (all rows, all columns but last column)\n",
    "X = df.values[:, :-1]\n",
    "\n",
    "# Extract output column (all rows, last column)\n",
    "Y = df.values[:, -1]\n",
    "\n",
    "# Separate training and testing data to evaluate performance and reduce overfitting\n",
    "X_train, X_test, Y_train, Y_test = train_test_split(X, Y, test_size=1.0/3.0, random_state=10)\n",
    "\n",
    "# Train the model \n",
    "model = LinearRegression()\n",
    "model.fit(X_train, Y_train)\n",
    "result = model.score(X_test, Y_test)\n",
    "\n",
    "# Print the Score \n",
    "print(\"R^2: %.3f\" % result)\n",
    "\n",
    "import matplotlib.pyplot as plt\n",
    "\n",
    "# show in chart\n",
    "plt.plot(X, Y, 'o') # scatterplot\n",
    "plt.plot(X, model.coef_.flatten()*X+model.intercept_.flatten()) # line\n",
    "plt.show()"
   ]
  }
 ],
 "metadata": {
  "kernelspec": {
   "display_name": "learn",
   "language": "python",
   "name": "learn"
  },
  "language_info": {
   "codemirror_mode": {
    "name": "ipython",
    "version": 3
   },
   "file_extension": ".py",
   "mimetype": "text/x-python",
   "name": "python",
   "nbconvert_exporter": "python",
   "pygments_lexer": "ipython3",
   "version": "3.11.5"
  }
 },
 "nbformat": 4,
 "nbformat_minor": 5
}
