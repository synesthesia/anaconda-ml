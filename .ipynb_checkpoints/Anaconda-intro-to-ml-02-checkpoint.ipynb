{
 "cells": [
  {
   "cell_type": "markdown",
   "id": "8380cc0f-2d9a-4128-a602-f9fb3ed88d14",
   "metadata": {},
   "source": [
    "# Introduction to Machine Learning 1\n",
    "\n",
    "See https://learning.anaconda.cloud/getting-started-with-ai-ml\n",
    "\n",
    "Cover major supervised machine learning algorithmss which use labelled data to make predicitons:\n",
    "\n",
    "- linear regression\n",
    "- Logistic regression\n",
    "- Naive Bayes\n",
    "- Decision trees / random forests\n",
    "- Neural networks\n",
    "\n",
    "Using `scikit-learn` for implementation"
   ]
  },
  {
   "cell_type": "markdown",
   "id": "ca0b118a-38e3-4bb7-8987-6b2f13526a0b",
   "metadata": {},
   "source": [
    "##  Linear Regression\n",
    "\n",
    "The most commonly used supervised machine learning algorithm. \n",
    "\n",
    "In this module, you'll learn how to: \n",
    "\n",
    "- Fit a line to data\n",
    "- Measure loss with residuals and sum of squares\n",
    "- Use scikit-learn to fit a linear regression\n",
    "- Evaluate a linear regression using R2 and train-test splits \n",
    "\n",
    "### Advantages\n",
    "\n",
    "- simple to understand and interpret \n",
    "- doesn't over-fit\n",
    "\n",
    "### Objectives\n",
    "\n",
    "1. fit a line to data\n",
    "2. measure loss with residuals and sum of sqaures\n",
    "3. use scikit learn for linear regression\n",
    "4. evaluate LR with R2 and train/test splits\n",
    "\n",
    "### Simple Linear Regression\n",
    "\n",
    "ML often splits into two tasks - **regression** (predict quantity) and **classification** (predict a category)\n",
    "\n",
    "E.g `y = mx+b`\n",
    "\n",
    "$this_{is}^{inline}$\n",
    "Challenge is to define `m` and `b` for \"best fit\"\n",
    "\n",
    "### Multiple linear regression\n"
   ]
  }
 ],
 "metadata": {
  "kernelspec": {
   "display_name": "Python 3 (ipykernel)",
   "language": "python",
   "name": "python3"
  },
  "language_info": {
   "codemirror_mode": {
    "name": "ipython",
    "version": 3
   },
   "file_extension": ".py",
   "mimetype": "text/x-python",
   "name": "python",
   "nbconvert_exporter": "python",
   "pygments_lexer": "ipython3",
   "version": "3.11.5"
  }
 },
 "nbformat": 4,
 "nbformat_minor": 5
}
