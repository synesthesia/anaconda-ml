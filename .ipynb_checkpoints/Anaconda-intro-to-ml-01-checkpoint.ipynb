{
 "cells": [
  {
   "cell_type": "markdown",
   "id": "8380cc0f-2d9a-4128-a602-f9fb3ed88d14",
   "metadata": {},
   "source": [
    "# Introduction to Machine Learning 1\n",
    "\n",
    "See https://learning.anaconda.cloud/getting-started-with-ai-ml\n",
    "\n",
    "Cover major supervised machine learning algorithms which use labelled data to make predicitons:\n",
    "\n",
    "- linear regression\n",
    "- Logistic regression\n",
    "- Naive Bayes\n",
    "- Decision trees / random forests\n",
    "- Neural networks\n",
    "\n",
    "Using `scikit-learn` for implementation"
   ]
  },
  {
   "cell_type": "markdown",
   "id": "ca0b118a-38e3-4bb7-8987-6b2f13526a0b",
   "metadata": {
    "tags": []
   },
   "source": [
    "##  Linear Regression\n",
    "\n",
    "The most commonly used supervised machine learning algorithm. \n",
    "\n",
    "In this module, you'll learn how to: \n",
    "\n",
    "- Fit a line to data\n",
    "- Measure loss with residuals and sum of squares\n",
    "- Use scikit-learn to fit a linear regression\n",
    "- Evaluate a linear regression using R2 and train-test splits \n",
    "\n",
    "### Advantages\n",
    "\n",
    "- simple to understand and interpret \n",
    "- doesn't over-fit\n",
    "\n",
    "### Objectives\n",
    "\n",
    "1. fit a line to data\n",
    "2. measure loss with residuals and sum of sqaures\n",
    "3. use scikit learn for linear regression\n",
    "4. evaluate LR with R2 and train/test splits\n",
    "\n",
    "### Simple Linear Regression\n",
    "\n",
    "ML often splits into two tasks - **regression** (predict quantity) and **classification** (predict a category)\n",
    "\n",
    "E.g $y = mx+b$\n",
    "\n",
    "Challenge is to define `m` and `b` for \"best fit\"\n",
    "\n",
    "### Multiple linear regression\n",
    "\n",
    "With multiple independent variables\n",
    "\n",
    "e.g. $y = \\beta_0 + \\beta_1x_1 + \\beta_2x_2 + \\epsilon$\n",
    "\n",
    "$\\epsilon $ is error due to noise\n",
    "\n",
    "Multiple variables can get complex, important to use tools to help select only input variables correlated wit hthe output variables (see course slide)\n",
    "\n",
    "e.g.:\n",
    "\n",
    "- Pearson correlation and $R^2$\n",
    "- adjusted $R^2$\n",
    "- Akakike Informatio nCriterion\n",
    "- Ridge and lasso regression\n",
    "\n",
    "#furtherlearning\n",
    "\n"
   ]
  },
  {
   "cell_type": "markdown",
   "id": "18195d4c-f737-478f-badd-dbbac0e9c5d0",
   "metadata": {},
   "source": [
    "### Residuals\n",
    "\n",
    "The differences between the data points and the regressions.\n",
    "\n",
    "Aim to minimise total residuals using a loss function.\n",
    "\n",
    "**Sum of squares**\n"
   ]
  },
  {
   "cell_type": "markdown",
   "id": "c14d344f-0ee0-4653-960f-7379302868a5",
   "metadata": {},
   "source": [
    "Declare training data"
   ]
  },
  {
   "cell_type": "code",
   "execution_count": 4,
   "id": "4754326f-f082-499c-8241-a81a674bbb1f",
   "metadata": {
    "tags": []
   },
   "outputs": [],
   "source": [
    "x_data = [1.0, 2.0, 3.0]\n",
    "y_actuals = [1.2, 1.25, 2.0]"
   ]
  },
  {
   "cell_type": "markdown",
   "id": "3798a3ba-c81f-4f26-a390-ee88ae903c6a",
   "metadata": {},
   "source": [
    "Declare slope and intercept coefficients"
   ]
  },
  {
   "cell_type": "code",
   "execution_count": 3,
   "id": "11587843-ee83-47fb-b7ae-ac80a4710a54",
   "metadata": {
    "tags": []
   },
   "outputs": [],
   "source": [
    "m = .368421\n",
    "b = .587719"
   ]
  },
  {
   "cell_type": "code",
   "execution_count": 7,
   "id": "b05eb836-ffc4-4722-9739-ff4a157c909a",
   "metadata": {},
   "outputs": [
    {
     "data": {
      "image/png": "[encoded data removed]",
      "text/plain": [
       "<Figure size 640x480 with 1 Axes>"
      ]
     },
     "metadata": {},
     "output_type": "display_data"
    }
   ],
   "source": [
    "# plot scatter plot and line\n",
    "import matplotlib.pyplot as plt\n",
    "\n",
    "plt.plot(x_data, y_actuals, 'o')\n",
    "plt.plot(x_data, [m*x+b for x in x_data])\n",
    "plt.show()"
   ]
  },
  {
   "cell_type": "code",
   "execution_count": 8,
   "id": "a38c160c-915f-4901-843b-752cbbac5ce4",
   "metadata": {},
   "outputs": [],
   "source": [
    "# calculate predicted y-values\n",
    "\n",
    "y_predicts = [m*x + b for x in x_data]"
   ]
  },
  {
   "cell_type": "code",
   "execution_count": 10,
   "id": "f20cb404-8815-46d6-9fd5-fe0bde843e56",
   "metadata": {
    "tags": []
   },
   "outputs": [
    {
     "name": "stdout",
     "output_type": "stream",
     "text": [
      "SUM OF SQUARES:  0.15928709464500013\n"
     ]
    }
   ],
   "source": [
    "# print sum of squares\n",
    "\n",
    "sum_of_squares = 0\n",
    "\n",
    "for (y_actual, y_predict) in zip(y_actuals, y_predicts):\n",
    "    residual = y_actual - y_predict\n",
    "    sum_of_squares += residual ** 2\n",
    "    \n",
    "print (\"SUM OF SQUARES: \", sum_of_squares)"
   ]
  },
  {
   "cell_type": "markdown",
   "id": "cb2574c6-bd83-49f1-b814-664b93de46d2",
   "metadata": {},
   "source": [
    "## Exercise 1"
   ]
  },
  {
   "cell_type": "code",
   "execution_count": 12,
   "id": "a1e8dcc7-e2c1-4deb-947c-5d547e548e2a",
   "metadata": {
    "tags": []
   },
   "outputs": [
    {
     "name": "stdout",
     "output_type": "stream",
     "text": [
      "SUM OF SQUARES:  [4568.04002146]\n"
     ]
    }
   ],
   "source": [
    "import pandas as pd\n",
    "\n",
    "# import dataframe containing two columns of data\n",
    "df = pd.read_csv('https://bit.ly/3pBKSuN')\n",
    "\n",
    "\n",
    "# declare line with slope and intercept\n",
    "m = 1.86305\n",
    "b = -0.299037\n",
    "\n",
    "# Extract input variables (all rows, all columns but last column)\n",
    "X = df.values[:, :-1]\n",
    "\n",
    "# Extract output column (all rows, last column)\n",
    "Y_actuals = df.values[:, -1]\n",
    "\n",
    "# calculate y_predictions \n",
    "Y_predicts = m*X + b\n",
    "\n",
    "sum_of_squares = 0\n",
    "\n",
    "for (y_actual, y_predict) in zip(Y_actuals, Y_predicts): \n",
    "    residual = y_actual - y_predict \n",
    "    sum_of_squares += residual ** 2\n",
    "\n",
    "print(\"SUM OF SQUARES: \", sum_of_squares)"
   ]
  }
 ],
 "metadata": {
  "kernelspec": {
   "display_name": "Python 3 (ipykernel)",
   "language": "python",
   "name": "python3"
  },
  "language_info": {
   "codemirror_mode": {
    "name": "ipython",
    "version": 3
   },
   "file_extension": ".py",
   "mimetype": "text/x-python",
   "name": "python",
   "nbconvert_exporter": "python",
   "pygments_lexer": "ipython3",
   "version": "3.11.5"
  }
 },
 "nbformat": 4,
 "nbformat_minor": 5
}
