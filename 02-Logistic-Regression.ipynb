{
 "cells": [
  {
   "cell_type": "markdown",
   "id": "8380cc0f-2d9a-4128-a602-f9fb3ed88d14",
   "metadata": {},
   "source": [
    "# Introduction to Machine Learning 2\n",
    "\n",
    "See https://learning.anaconda.cloud/getting-started-with-ai-ml\n",
    "\n",
    "Cover major supervised machine learning algorithmss which use labelled data to make predicitons:\n",
    "\n",
    "- linear regression\n",
    "- Logistic regression\n",
    "- Naive Bayes\n",
    "- Decision trees / random forests\n",
    "- Neural networks\n",
    "\n",
    "Using `scikit-learn` for implementation"
   ]
  },
  {
   "cell_type": "markdown",
   "id": "ca0b118a-38e3-4bb7-8987-6b2f13526a0b",
   "metadata": {},
   "source": [
    "##  Logistic Regression\n",
    "\n",
    "Logistic regression is a common machine learning algorithm used for classification and probability prediction. \n",
    "\n",
    "In this module, you'll learn how to: \n",
    "\n",
    "- Fit an S-curve to data\n",
    "- Understand maximum likelihood estimation\n",
    "- Use scikit-learn to fit a logistic regression\n",
    "- Evaluate classification model performance"
   ]
  }
 ],
 "metadata": {
  "kernelspec": {
   "display_name": "Python 3 (ipykernel)",
   "language": "python",
   "name": "python3"
  },
  "language_info": {
   "codemirror_mode": {
    "name": "ipython",
    "version": 3
   },
   "file_extension": ".py",
   "mimetype": "text/x-python",
   "name": "python",
   "nbconvert_exporter": "python",
   "pygments_lexer": "ipython3",
   "version": "3.11.5"
  }
 },
 "nbformat": 4,
 "nbformat_minor": 5
}
